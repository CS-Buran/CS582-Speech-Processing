{
 "cells": [
  {
   "cell_type": "code",
   "execution_count": null,
   "metadata": {},
   "outputs": [],
   "source": [
    "#        Class: CS 582: Intro to Speech Processing\n",
    "#      Purpose: This homework will help to introduce you to Python and Colab\n",
    "# Instructions:\n",
    "#     1. Write Python code as indicated\n",
    "#     2. Turn in this template with working code for each exercise.\n",
    "#     3. Turn in a sample run to demonstrate your work\n",
    "#\n",
    "#        Title: Homework 1\n",
    "#          Due: 2.15.2021\n",
    "#         Name:Mikhail Mineev\n",
    "# Turn-in Date:2/15/2021\n",
    "#    File Name: HW1_<LASTNAME>_<LAST_4_DIGITS_OF_STUDENT_ID>.py\n",
    "#\n",
    "print (\"Homework 1: Intro to Python\")\n",
    "# Replace <LASTNAME> with your last name\n",
    "# Replace <LAST_4_DIGITS_OF_STUDENT_ID> with the last 4 digits of your student ID.\n",
    "print (\"<LASTNAME>_<LAST_4_DIGITS_OF_STUDENT_ID>\")\n",
    "print (\"********** Exercise 1.1 **********\")\n",
    "# Create and print examples of the basic Python types\n",
    "# Write a function named ex1() containing the following functionality:\n",
    "# 1. An integer 1 named 'int1'\n",
    "\n",
    "# 2. A floating point number = 2.0 named 'float1'\n",
    "\n",
    "# 3. A complex number containing the value 3 - 3i named 'complex1'\n",
    "\n",
    "# 4. A string containg the value \"Hello World\" named 'string1'\n",
    "\n",
    "# 5. A list containing the values 'a', 0, 'b', '2', 'c', 3 named 'list1'\n",
    "\n",
    "# 6. A dictionary named 'dictionary1' containing the values 1,2,3,4\n",
    "\n",
    "# 7. A tuple named 'tuple1' containg the values 0,1\n",
    "\n",
    "# 8. A boolean named 'boolean1' = false\n",
    "# 9. Invoke ex1() to print results\n",
    "\n",
    "print (\"********** Exercise 1.2 **********\")\n",
    "# Write your code below each prompt\n",
    "# Create a function called ex2() which:\n",
    "# 1. Prompts the user for their name\n",
    "# 2. Writes the text entry to the file tmp1.txt\n",
    "# 3. Reads the value from the file\n",
    "# 4. Print the value read from the file\n",
    "# 5. Invoke ex2() to print results\n",
    "\n",
    "print (\"********** Exercise 1.3 **********\")\n",
    "# Write a function called ex3(n) which\n",
    "# 1. accepts as an input parameter an integer between 1 and 100\n",
    "# 2. Calculates and print the mersenne primes between 1 and this number\n",
    "#    See en.wikipedia.org/wiki/Mersenne_prime for details\n",
    "# 3. Invoke ex3(16) to print results\n",
    "\n",
    "print (\"********** Exercise 1.4 **********\")\n",
    "# Write a function called ex4() which implements a \"Guess the number\" game\n",
    "# 1. Generate a random number between 1 and 100\n",
    "#    See https://docs.python.org/3/library/random.html for random number\n",
    "#    generation details\n",
    "# 1. Prompt the user with the rules of the game ('q' to quit)\n",
    "# 2. Iterively prompt a user for a guess\n",
    "# 3. Let the user know whether their last guess was high or low\n",
    "# 4. Count the number of guesses\n",
    "# 5. Congratulate them upon success. Print the number of guesses\n",
    "# 6. Prompt to play again or quit\n",
    "# 7. Proceed as directed by user.\n",
    "# 8. Invoke ex4() and play a game to print results\n"
   ]
  },
  {
   "cell_type": "code",
   "execution_count": 1,
   "metadata": {},
   "outputs": [
    {
     "name": "stdout",
     "output_type": "stream",
     "text": [
      "Homework 1: Intro to Python\n",
      "Mineev_2323\n"
     ]
    }
   ],
   "source": [
    "\n",
    "print (\"Homework 1: Intro to Python\")\n",
    "# Replace <LASTNAME> with your last name\n",
    "# Replace <LAST_4_DIGITS_OF_STUDENT_ID> with the last 4 digits of your student ID.\n",
    "print (\"Mineev_2323\")"
   ]
  },
  {
   "cell_type": "code",
   "execution_count": 23,
   "metadata": {},
   "outputs": [
    {
     "name": "stdout",
     "output_type": "stream",
     "text": [
      "********** Exercise 1.1 **********\n",
      "1\n",
      "2.0\n",
      "(3-3j)\n",
      "Hello World\n",
      "['a', 0, 'b', '2', 'c', 3]\n",
      "{1, 2, 3, 4}\n",
      "(0, 1)\n",
      "False\n"
     ]
    }
   ],
   "source": [
    "\n",
    "print (\"********** Exercise 1.1 **********\")\n",
    "# Create and print examples of the basic Python types\n",
    "# Write a function named ex1() containing the following functionality:\n",
    "def ex1():\n",
    "    \n",
    "# 1. An integer 1 named 'int1'\n",
    "    int1 = 1\n",
    "    print(int1)\n",
    "# 2. A floating point number = 2.0 named 'float1'\n",
    "    float1 = 2.0\n",
    "    print(float1)\n",
    "# 3. A complex number containing the value 3 - 3i named 'complex1'\n",
    "    complex1 = complex(3,-3)\n",
    "    print(complex1)\n",
    "# 4. A string containg the value \"Hello World\" named 'string1'\n",
    "    string1 = \"Hello World\"\n",
    "    print(string1)\n",
    "# 5. A list containing the values 'a', 0, 'b', '2', 'c', 3 named 'list1'\n",
    "    list1 = ['a', 0, 'b','2','c',3]\n",
    "    print(list1)\n",
    "# 6. A dictionary named 'dictionary1' containing the values 1,2,3,4\n",
    "    dictionary1 = {1,2,3,4}\n",
    "    print(dictionary1)\n",
    "# 7. A tuple named 'tuple1' containg the values 0,1\n",
    "    tuple1 = (0,1)\n",
    "    print(tuple1)\n",
    "# 8. A boolean named 'boolean1' = false\n",
    "    boolean1 = False\n",
    "    print(boolean1)\n",
    "# 9. Invoke ex1() to print results\n",
    "\n",
    "ex1()"
   ]
  },
  {
   "cell_type": "code",
   "execution_count": 22,
   "metadata": {},
   "outputs": [
    {
     "name": "stdout",
     "output_type": "stream",
     "text": [
      "********** Exercise 1.2 **********\n"
     ]
    },
    {
     "name": "stdin",
     "output_type": "stream",
     "text": [
      "Hello user, what is your name? hello\n"
     ]
    },
    {
     "name": "stdout",
     "output_type": "stream",
     "text": [
      "hello\n"
     ]
    }
   ],
   "source": [
    "print (\"********** Exercise 1.2 **********\")\n",
    "# Write your code below each prompt\n",
    "# Create a function called ex2() which:\n",
    "def ex2():\n",
    "# 1. Prompts the user for their name\n",
    "    name = input(\"Hello user, what is your name?\")\n",
    "# 2. Writes the text entry to the file tmp1.txt\n",
    "    f = open(\"tmp1.txt\", 'w')\n",
    "    f.write(name)\n",
    "    f.close\n",
    "# 3. Reads the value from the file\n",
    "    f = open(\"tmp1.txt\",'r')\n",
    "# 4. Print the value read from the file\n",
    "    print(f.read())\n",
    "    f.close()\n",
    "# 5. Invoke ex2() to print results\n",
    "\n",
    "\n",
    "ex2()"
   ]
  },
  {
   "cell_type": "code",
   "execution_count": 29,
   "metadata": {},
   "outputs": [
    {
     "name": "stdout",
     "output_type": "stream",
     "text": [
      "********** Exercise 1.3 **********\n",
      "3\n",
      "7\n"
     ]
    }
   ],
   "source": [
    "print (\"********** Exercise 1.3 **********\")\n",
    "# Write a function called ex3(n) which\n",
    "def ex3(n):\n",
    "    if(n>100 or n<1):\n",
    "        return\n",
    "# 1. accepts as an input parameter an integer between 1 and 100\n",
    "# 2. Calculates and print the mersenne primes between 1 and this number\n",
    "#    See en.wikipedia.org/wiki/Mersenne_prime for details\n",
    "    check = False\n",
    "    prime = True\n",
    "    m = 1\n",
    "    z = 1\n",
    "    num = 2\n",
    "    \n",
    "    while check != True:\n",
    "        z = ((2**num)-1)\n",
    "        for i in range(2,num):\n",
    "               if (num % i) == 0:\n",
    "                    prime = False\n",
    "                \n",
    "        num = num + 1\n",
    "        if(prime == True):\n",
    "             print(z)\n",
    "        \n",
    "        prime = True\n",
    "        m = ((2**(num+1))-1)\n",
    "        if(m>=n):\n",
    "            check = True\n",
    "            \n",
    "    \n",
    "        \n",
    "    \n",
    "# 3. Invoke ex3(16) to print results\n",
    "\n",
    "ex3(16)"
   ]
  },
  {
   "cell_type": "code",
   "execution_count": 13,
   "metadata": {},
   "outputs": [
    {
     "name": "stdout",
     "output_type": "stream",
     "text": [
      "********** Exercise 1.4 **********\n",
      "Guess the Number!\n"
     ]
    },
    {
     "name": "stdin",
     "output_type": "stream",
     "text": [
      "Enter number between 1 and 100 or enter q to quit 1\n"
     ]
    },
    {
     "name": "stdout",
     "output_type": "stream",
     "text": [
      "A bit too low, try again\n"
     ]
    },
    {
     "name": "stdin",
     "output_type": "stream",
     "text": [
      "Enter number between 1 and 100 or enter q to quit 20\n"
     ]
    },
    {
     "name": "stdout",
     "output_type": "stream",
     "text": [
      "A bit too low, try again\n"
     ]
    },
    {
     "name": "stdin",
     "output_type": "stream",
     "text": [
      "Enter number between 1 and 100 or enter q to quit 40\n"
     ]
    },
    {
     "name": "stdout",
     "output_type": "stream",
     "text": [
      "A bit too high, try again\n"
     ]
    },
    {
     "name": "stdin",
     "output_type": "stream",
     "text": [
      "Enter number between 1 and 100 or enter q to quit 30\n"
     ]
    },
    {
     "name": "stdout",
     "output_type": "stream",
     "text": [
      "A bit too high, try again\n"
     ]
    },
    {
     "name": "stdin",
     "output_type": "stream",
     "text": [
      "Enter number between 1 and 100 or enter q to quit 25\n"
     ]
    },
    {
     "name": "stdout",
     "output_type": "stream",
     "text": [
      "A bit too low, try again\n"
     ]
    },
    {
     "name": "stdin",
     "output_type": "stream",
     "text": [
      "Enter number between 1 and 100 or enter q to quit 29\n"
     ]
    },
    {
     "name": "stdout",
     "output_type": "stream",
     "text": [
      "A bit too high, try again\n"
     ]
    },
    {
     "name": "stdin",
     "output_type": "stream",
     "text": [
      "Enter number between 1 and 100 or enter q to quit 25\n"
     ]
    },
    {
     "name": "stdout",
     "output_type": "stream",
     "text": [
      "A bit too low, try again\n"
     ]
    },
    {
     "name": "stdin",
     "output_type": "stream",
     "text": [
      "Enter number between 1 and 100 or enter q to quit 26\n"
     ]
    },
    {
     "name": "stdout",
     "output_type": "stream",
     "text": [
      "Good guess!\n",
      "You got it after 8 guesses\n",
      "Do you want to play again?\n"
     ]
    },
    {
     "name": "stdin",
     "output_type": "stream",
     "text": [
      "y/n n\n"
     ]
    },
    {
     "name": "stdout",
     "output_type": "stream",
     "text": [
      "Thank you for playing!\n"
     ]
    }
   ],
   "source": [
    "print (\"********** Exercise 1.4 **********\")\n",
    "# Write a function called ex4() which implements a \"Guess the number\" game\n",
    "import random\n",
    "def ex4():\n",
    "# 1. Generate a random number between 1 and 100\n",
    "#    See https://docs.python.org/3/library/random.html for random number\n",
    "#    generation details\n",
    "    value = random.randint(1, 100)\n",
    "    #print(value) #######################TEST\n",
    "# 1. Prompt the user with the rules of the game ('q' to quit)\n",
    "# 2. Iterively prompt a user for a guess\n",
    "# 3. Let the user know whether their last guess was high or low\n",
    "# 4. Count the number of guesses\n",
    "# 5. Congratulate them upon success. Print the number of guesses\n",
    "# 6. Prompt to play again or quit\n",
    "# 7. Proceed as directed by user.\n",
    "\n",
    "    print(\"Guess the Number!\")\n",
    "    ent = 0\n",
    "    guess = False\n",
    "    num = 1\n",
    "    while guess != True:\n",
    "        entString = input(\"Enter number between 1 and 100 or enter q to quit\")\n",
    "        if entString == \"q\":\n",
    "            break\n",
    "        ent = int(entString)\n",
    "        \n",
    "        if ent > 100 or ent < 1:\n",
    "            print(\"Invalid input\")\n",
    "            exit()\n",
    "        else:\n",
    "            if ent > value: #num too high\n",
    "                print(\"A bit too high, try again\")\n",
    "                num = num + 1\n",
    "        \n",
    "            if ent < value: #num too low\n",
    "                print(\"A bit too low, try again\")\n",
    "                num = num + 1\n",
    "                \n",
    "            if ent == value: #value guessed\n",
    "                print(\"Good guess!\")\n",
    "                if num > 1:\n",
    "                    print(\"You got it after \" + str(num) + \" guesses\")\n",
    "                if num == 1:\n",
    "                    print(\"You got it after just \" + str(num) + \" guess\")\n",
    "                    \n",
    "                print(\"Do you want to play again?\") #menu to play again\n",
    "                ynString = input(\"y/n\")\n",
    "                if(ynString == \"y\"):\n",
    "                    value = random.randint(1, 100) #random num\n",
    "                    #print(value) ######################## TEST\n",
    "                    guess = False\n",
    "                if(ynString == \"n\"):\n",
    "                    print(\"Thank you for playing!\")\n",
    "                    guess = True\n",
    "            \n",
    "# 8. Invoke ex4() and play a game to print results\n",
    "ex4()"
   ]
  },
  {
   "cell_type": "code",
   "execution_count": null,
   "metadata": {},
   "outputs": [],
   "source": []
  }
 ],
 "metadata": {
  "kernelspec": {
   "display_name": "Python 3",
   "language": "python",
   "name": "python3"
  },
  "language_info": {
   "codemirror_mode": {
    "name": "ipython",
    "version": 3
   },
   "file_extension": ".py",
   "mimetype": "text/x-python",
   "name": "python",
   "nbconvert_exporter": "python",
   "pygments_lexer": "ipython3",
   "version": "3.8.3"
  }
 },
 "nbformat": 4,
 "nbformat_minor": 4
}
